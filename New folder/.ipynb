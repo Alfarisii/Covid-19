{
 "cells": [
  {
   "cell_type": "code",
   "execution_count": 14,
   "metadata": {},
   "outputs": [
    {
     "name": "stdout",
     "output_type": "stream",
     "text": [
      "                            id        date             country  state  city  \\\n",
      "0                  China|NA|NA  2020-01-22               China    NaN   NaN   \n",
      "1                  China|NA|NA  2020-01-23               China    NaN   NaN   \n",
      "2                  China|NA|NA  2020-01-24               China    NaN   NaN   \n",
      "3                  China|NA|NA  2020-01-25               China    NaN   NaN   \n",
      "4                  China|NA|NA  2020-01-26               China    NaN   NaN   \n",
      "...                        ...         ...                 ...    ...   ...   \n",
      "1432                  US|NA|NA  2020-03-27                  US    NaN   NaN   \n",
      "1433          Uzbekistan|NA|NA  2020-03-27          Uzbekistan    NaN   NaN   \n",
      "1434           Venezuela|NA|NA  2020-03-27           Venezuela    NaN   NaN   \n",
      "1435  West Bank and Gaza|NA|NA  2020-03-27  West Bank and Gaza    NaN   NaN   \n",
      "1436            Zimbabwe|NA|NA  2020-03-27            Zimbabwe    NaN   NaN   \n",
      "\n",
      "              lat          lng  deaths  confirmed  tests  deaths_new  \\\n",
      "0        0.515152     0.515152      17        548      0          17   \n",
      "1        0.545455     0.545455      18        643      0           1   \n",
      "2        0.787879     0.787879      26        920      0           8   \n",
      "3        1.272727     1.272727      42       1406      0          16   \n",
      "4        1.696970     1.696970      56       2075      0          14   \n",
      "...           ...          ...     ...        ...    ...         ...   \n",
      "1432  1581.000000  1581.000000    1581     101657      0         372   \n",
      "1433     1.000000     1.000000       1         88      0           1   \n",
      "1434     1.000000     1.000000       1        107      0           1   \n",
      "1435     1.000000     1.000000       1         91      0           0   \n",
      "1436     1.000000     1.000000       1          5      0           0   \n",
      "\n",
      "      confirmed_new  tests_new           pop    pop_14  pop_15_64    pop_65  \\\n",
      "0               548          0  1.392730e+09  0.178770   0.712021  0.109209   \n",
      "1                95          0  1.392730e+09  0.178770   0.712021  0.109209   \n",
      "2               277          0  1.392730e+09  0.178770   0.712021  0.109209   \n",
      "3               486          0  1.392730e+09  0.178770   0.712021  0.109209   \n",
      "4               669          0  1.392730e+09  0.178770   0.712021  0.109209   \n",
      "...             ...        ...           ...       ...        ...       ...   \n",
      "1432          17821          0  3.272000e+08  0.187090   0.654833  0.158077   \n",
      "1433             88          0  3.295540e+07  0.286861   0.668948  0.044191   \n",
      "1434            107          0  2.887020e+07  0.276667   0.650664  0.072670   \n",
      "1435              7          0  4.569087e+06  0.389474   0.579193  0.031333   \n",
      "1436              2          0  1.443902e+07  0.424011   0.546594  0.029395   \n",
      "\n",
      "      pop_age  pop_density  pop_death_rate  \n",
      "0        38.4   148.348833        0.007110  \n",
      "1        38.4   148.348833        0.007110  \n",
      "2        38.4   148.348833        0.007110  \n",
      "3        38.4   148.348833        0.007110  \n",
      "4        38.4   148.348833        0.007110  \n",
      "...       ...          ...             ...  \n",
      "1432     38.5    35.766089        0.008500  \n",
      "1433     30.1    77.469205        0.005000  \n",
      "1434     30.0    32.730792        0.006814  \n",
      "1435     21.9   758.984551        0.003469  \n",
      "1436     20.5    37.324591        0.008044  \n",
      "\n",
      "[1437 rows x 20 columns]\n"
     ]
    }
   ],
   "source": [
    "import matplotlib\n",
    "import numpy as np\n",
    "\n",
    "import pandas as pd\n",
    "df1 = pd.read_csv(\"https://raw.githubusercontent.com/Alfarisii/Covid-19/master/world-country.csv\")\n",
    "print(df1)\n",
    "\n",
    "\n",
    "\n",
    "\n"
   ]
  },
  {
   "cell_type": "code",
   "execution_count": 12,
   "metadata": {},
   "outputs": [
    {
     "data": {
      "image/png": "[encoded data removed]",
      "text/plain": [
       "<Figure size 432x288 with 1 Axes>"
      ]
     },
     "metadata": {
      "needs_background": "light"
     },
     "output_type": "display_data"
    }
   ],
   "source": [
    "%matplotlib inline\n",
    "import matplotlib\n",
    "import matplotlib.pyplot as plt\n",
    "\n",
    "\n",
    "days = range(7)\n",
    "money_spent = [10, 12, 12, 10, 14, 22, 24]\n",
    "\n",
    "plt.plot(days, money_spent)\n",
    "\n",
    "plt.show()"
   ]
  },
  {
   "cell_type": "code",
   "execution_count": null,
   "metadata": {},
   "outputs": [],
   "source": []
  }
 ],
 "metadata": {
  "kernelspec": {
   "display_name": "Python 3",
   "language": "python",
   "name": "python3"
  },
  "language_info": {
   "codemirror_mode": {
    "name": "ipython",
    "version": 3
   },
   "file_extension": ".py",
   "mimetype": "text/x-python",
   "name": "python",
   "nbconvert_exporter": "python",
   "pygments_lexer": "ipython3",
   "version": "3.7.6"
  }
 },
 "nbformat": 4,
 "nbformat_minor": 4
}
