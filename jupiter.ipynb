{
 "cells": [
  {
   "cell_type": "code",
   "execution_count": 22,
   "metadata": {},
   "outputs": [
    {
     "name": "stdout",
     "output_type": "stream",
     "text": [
      "289682\n",
      "               id        date country  state  city        lat        lng  \\\n",
      "0     China|NA|NA  2020-01-22   China    NaN   NaN   0.515152   0.515152   \n",
      "1     China|NA|NA  2020-01-23   China    NaN   NaN   0.545455   0.545455   \n",
      "2     China|NA|NA  2020-01-24   China    NaN   NaN   0.787879   0.787879   \n",
      "3     China|NA|NA  2020-01-25   China    NaN   NaN   1.272727   1.272727   \n",
      "4     China|NA|NA  2020-01-26   China    NaN   NaN   1.696970   1.696970   \n",
      "...           ...         ...     ...    ...   ...        ...        ...   \n",
      "971   China|NA|NA  2020-03-23   China    NaN   NaN  99.212121  99.212121   \n",
      "1061  China|NA|NA  2020-03-24   China    NaN   NaN  99.424242  99.424242   \n",
      "1153  China|NA|NA  2020-03-25   China    NaN   NaN  99.545455  99.545455   \n",
      "1249  China|NA|NA  2020-03-26   China    NaN   NaN  99.727273  99.727273   \n",
      "1350  China|NA|NA  2020-03-27   China    NaN   NaN  99.878788  99.878788   \n",
      "\n",
      "      deaths  confirmed  tests  deaths_new  confirmed_new  tests_new  \\\n",
      "0         17        548      0          17            548          0   \n",
      "1         18        643      0           1             95          0   \n",
      "2         26        920      0           8            277          0   \n",
      "3         42       1406      0          16            486          0   \n",
      "4         56       2075      0          14            669          0   \n",
      "...      ...        ...    ...         ...            ...        ...   \n",
      "971     3274      81498      0           0             63          0   \n",
      "1061    3281      81591      0           7             93          0   \n",
      "1153    3285      81661      0           4             70          0   \n",
      "1249    3291      81782      0           6            121          0   \n",
      "1350    3296      81897      0           5            115          0   \n",
      "\n",
      "               pop   pop_14  pop_15_64    pop_65  pop_age  pop_density  \\\n",
      "0     1.392730e+09  0.17877   0.712021  0.109209     38.4   148.348833   \n",
      "1     1.392730e+09  0.17877   0.712021  0.109209     38.4   148.348833   \n",
      "2     1.392730e+09  0.17877   0.712021  0.109209     38.4   148.348833   \n",
      "3     1.392730e+09  0.17877   0.712021  0.109209     38.4   148.348833   \n",
      "4     1.392730e+09  0.17877   0.712021  0.109209     38.4   148.348833   \n",
      "...            ...      ...        ...       ...      ...          ...   \n",
      "971   1.392730e+09  0.17877   0.712021  0.109209     38.4   148.348833   \n",
      "1061  1.392730e+09  0.17877   0.712021  0.109209     38.4   148.348833   \n",
      "1153  1.392730e+09  0.17877   0.712021  0.109209     38.4   148.348833   \n",
      "1249  1.392730e+09  0.17877   0.712021  0.109209     38.4   148.348833   \n",
      "1350  1.392730e+09  0.17877   0.712021  0.109209     38.4   148.348833   \n",
      "\n",
      "      pop_death_rate  \n",
      "0            0.00711  \n",
      "1            0.00711  \n",
      "2            0.00711  \n",
      "3            0.00711  \n",
      "4            0.00711  \n",
      "...              ...  \n",
      "971          0.00711  \n",
      "1061         0.00711  \n",
      "1153         0.00711  \n",
      "1249         0.00711  \n",
      "1350         0.00711  \n",
      "\n",
      "[66 rows x 20 columns]\n"
     ]
    }
   ],
   "source": [
    "%matplotlib inline\n",
    "import matplotlib\n",
    "import numpy as np\n",
    "import matplotlib.pyplot as plt\n",
    "\n",
    "\n",
    "import pandas as pd\n",
    "df = pd.read_csv(\"https://raw.githubusercontent.com/Alfarisii/Covid-19/master/world-country.csv\")\n",
    "\n",
    "df.head(10)\n",
    "\n",
    "country = df[df.country == \"China\"]\n",
    "death = df['deaths']\n",
    "print(death.sum())\n",
    "print(country)\n",
    "\n"
   ]
  },
  {
   "cell_type": "code",
   "execution_count": 12,
   "metadata": {},
   "outputs": [
    {
     "data": {
      "image/png": "[encoded data removed]",
      "text/plain": [
       "<Figure size 432x288 with 1 Axes>"
      ]
     },
     "metadata": {
      "needs_background": "light"
     },
     "output_type": "display_data"
    }
   ],
   "source": [
    "%matplotlib inline\n",
    "import matplotlib\n",
    "import matplotlib.pyplot as plt\n",
    "\n",
    "\n",
    "days = range(7)\n",
    "money_spent = [10, 12, 12, 10, 14, 22, 24]\n",
    "\n",
    "plt.plot(days, money_spent)\n",
    "\n",
    "plt.show()"
   ]
  },
  {
   "cell_type": "code",
   "execution_count": null,
   "metadata": {},
   "outputs": [],
   "source": []
  }
 ],
 "metadata": {
  "kernelspec": {
   "display_name": "Python 3",
   "language": "python",
   "name": "python3"
  },
  "language_info": {
   "codemirror_mode": {
    "name": "ipython",
    "version": 3
   },
   "file_extension": ".py",
   "mimetype": "text/x-python",
   "name": "python",
   "nbconvert_exporter": "python",
   "pygments_lexer": "ipython3",
   "version": "3.7.6"
  }
 },
 "nbformat": 4,
 "nbformat_minor": 4
}
